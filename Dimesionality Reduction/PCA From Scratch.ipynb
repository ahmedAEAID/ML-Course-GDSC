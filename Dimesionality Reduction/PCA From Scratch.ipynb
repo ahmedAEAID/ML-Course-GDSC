{
 "cells": [
  {
   "cell_type": "markdown",
   "id": "b4ee1e90-295a-47e0-99f6-8e82f987d1a3",
   "metadata": {},
   "source": [
    "### Import Libaraies"
   ]
  },
  {
   "cell_type": "code",
   "execution_count": 30,
   "id": "98a02c50-55c9-45d3-a236-9eea45319455",
   "metadata": {},
   "outputs": [],
   "source": [
    "import numpy as np\n",
    "import pandas as pd\n",
    "import matplotlib.pyplot as plt"
   ]
  },
  {
   "cell_type": "code",
   "execution_count": 4,
   "id": "b0368595-f00d-488f-bc52-f211dcb67922",
   "metadata": {},
   "outputs": [
    {
     "data": {
      "text/plain": [
       "array([2.8625, 1.1125, 0.4125, 0.25  ])"
      ]
     },
     "execution_count": 4,
     "metadata": {},
     "output_type": "execute_result"
    }
   ],
   "source": [
    "data =np.array( [[2.5, 1.2, 0.4, 0.3],\n",
    "        [3.5, 1.0, 0.3, 0.2],\n",
    "        [2.8, 1.1, 0.5, 0.4],\n",
    "        [2.9, 1.3, 0.4, 0.2],\n",
    "        [3.2, 1.2, 0.5, 0.1],\n",
    "        [2.3, 0.9, 0.3, 0.3],\n",
    "        [3.0, 1.0, 0.4, 0.2],\n",
    "        [2.7, 1.2, 0.5, 0.3]])\n",
    "data.mean(axis=0)"
   ]
  },
  {
   "cell_type": "code",
   "execution_count": 6,
   "id": "68d0797b-0909-4ed4-8aa1-74b6740f6e1c",
   "metadata": {},
   "outputs": [
    {
     "data": {
      "text/plain": [
       "array([0.35685256, 0.12686114, 0.07806247, 0.08660254])"
      ]
     },
     "execution_count": 6,
     "metadata": {},
     "output_type": "execute_result"
    }
   ],
   "source": [
    "data.std(axis=0)"
   ]
  },
  {
   "cell_type": "code",
   "execution_count": 7,
   "id": "fae87cfb-9d50-48ed-bccb-baa3b685149d",
   "metadata": {},
   "outputs": [],
   "source": [
    "data_scaled= (data-data.mean(axis=0))/data.std(axis=0)\n"
   ]
  },
  {
   "cell_type": "code",
   "execution_count": 10,
   "id": "6799f860-bfe5-4f06-a36f-2974764b0930",
   "metadata": {},
   "outputs": [
    {
     "data": {
      "text/plain": [
       "array([-0., -0.,  0.,  0.])"
      ]
     },
     "execution_count": 10,
     "metadata": {},
     "output_type": "execute_result"
    }
   ],
   "source": [
    "np.round(data_scaled.mean(axis= 0))"
   ]
  },
  {
   "cell_type": "code",
   "execution_count": 15,
   "id": "c5d02554-64f2-4b72-b55f-fde2041997b9",
   "metadata": {},
   "outputs": [],
   "source": [
    "covariance_matrix = np.cov(data_scaled.T)"
   ]
  },
  {
   "cell_type": "code",
   "execution_count": 27,
   "id": "376b1edf-bf39-460f-8bce-f4f93bc1c916",
   "metadata": {},
   "outputs": [],
   "source": [
    "eigval , eigvec= np.linalg.eig(covariance_matrix)\n",
    "idx = np.argsort(eigval)[::-1]\n",
    "eigval = eigval[idx]\n",
    "eigvec = eigvec[:,idx]"
   ]
  },
  {
   "cell_type": "code",
   "execution_count": 35,
   "id": "405ef0f7-f1ec-4d15-8adb-7b196ab06354",
   "metadata": {},
   "outputs": [
    {
     "data": {
      "text/html": [
       "<div>\n",
       "<style scoped>\n",
       "    .dataframe tbody tr th:only-of-type {\n",
       "        vertical-align: middle;\n",
       "    }\n",
       "\n",
       "    .dataframe tbody tr th {\n",
       "        vertical-align: top;\n",
       "    }\n",
       "\n",
       "    .dataframe thead th {\n",
       "        text-align: right;\n",
       "    }\n",
       "</style>\n",
       "<table border=\"1\" class=\"dataframe\">\n",
       "  <thead>\n",
       "    <tr style=\"text-align: right;\">\n",
       "      <th></th>\n",
       "      <th>PCA1</th>\n",
       "      <th>PCA2</th>\n",
       "      <th>PCA3</th>\n",
       "      <th>PCA4</th>\n",
       "    </tr>\n",
       "  </thead>\n",
       "  <tbody>\n",
       "    <tr>\n",
       "      <th>0</th>\n",
       "      <td>-0.537356</td>\n",
       "      <td>-0.439330</td>\n",
       "      <td>0.575098</td>\n",
       "      <td>-0.433012</td>\n",
       "    </tr>\n",
       "    <tr>\n",
       "      <th>1</th>\n",
       "      <td>-0.513850</td>\n",
       "      <td>0.485267</td>\n",
       "      <td>-0.492098</td>\n",
       "      <td>-0.508246</td>\n",
       "    </tr>\n",
       "    <tr>\n",
       "      <th>2</th>\n",
       "      <td>-0.385847</td>\n",
       "      <td>0.605784</td>\n",
       "      <td>0.480888</td>\n",
       "      <td>0.502886</td>\n",
       "    </tr>\n",
       "    <tr>\n",
       "      <th>3</th>\n",
       "      <td>0.546195</td>\n",
       "      <td>0.452251</td>\n",
       "      <td>0.442547</td>\n",
       "      <td>-0.548901</td>\n",
       "    </tr>\n",
       "  </tbody>\n",
       "</table>\n",
       "</div>"
      ],
      "text/plain": [
       "       PCA1      PCA2      PCA3      PCA4\n",
       "0 -0.537356 -0.439330  0.575098 -0.433012\n",
       "1 -0.513850  0.485267 -0.492098 -0.508246\n",
       "2 -0.385847  0.605784  0.480888  0.502886\n",
       "3  0.546195  0.452251  0.442547 -0.548901"
      ]
     },
     "execution_count": 35,
     "metadata": {},
     "output_type": "execute_result"
    }
   ],
   "source": [
    "pca_componates = pd.DataFrame(eigvec, columns=['PCA1', 'PCA2', 'PCA3','PCA4'])\n",
    "pca_componates"
   ]
  },
  {
   "cell_type": "code",
   "execution_count": 28,
   "id": "da7cdcf0-2cb3-4022-9a1a-2b8d2002fd7d",
   "metadata": {},
   "outputs": [
    {
     "data": {
      "text/plain": [
       "array([1.95661495, 1.77112654, 0.54345201, 0.30023507])"
      ]
     },
     "execution_count": 28,
     "metadata": {},
     "output_type": "execute_result"
    }
   ],
   "source": [
    "(eigval)"
   ]
  },
  {
   "cell_type": "code",
   "execution_count": 39,
   "id": "4e2a7e47-b6b2-44a9-849f-b5551bceef8b",
   "metadata": {},
   "outputs": [
    {
     "data": {
      "text/plain": [
       "array([0.42800952, 0.81544345, 0.93432358, 1.        ])"
      ]
     },
     "execution_count": 39,
     "metadata": {},
     "output_type": "execute_result"
    }
   ],
   "source": [
    "propotion = eigval.cumsum()/eigval.sum()\n",
    "propotion"
   ]
  },
  {
   "cell_type": "code",
   "execution_count": 40,
   "id": "c4962e2c-442e-4444-be50-bb25536591d1",
   "metadata": {},
   "outputs": [
    {
     "data": {
      "text/plain": [
       "<BarContainer object of 4 artists>"
      ]
     },
     "execution_count": 40,
     "metadata": {},
     "output_type": "execute_result"
    },
    {
     "data": {
      "image/png": "[encoded data removed]",
      "text/plain": [
       "<Figure size 640x480 with 1 Axes>"
      ]
     },
     "metadata": {},
     "output_type": "display_data"
    }
   ],
   "source": [
    "plt.bar(pca_componates.columns,propotion)"
   ]
  },
  {
   "cell_type": "code",
   "execution_count": null,
   "id": "1cd22637-6ac7-4d50-98de-d0b0cf4d0385",
   "metadata": {},
   "outputs": [],
   "source": []
  }
 ],
 "metadata": {
  "kernelspec": {
   "display_name": "Python 3 (ipykernel)",
   "language": "python",
   "name": "python3"
  },
  "language_info": {
   "codemirror_mode": {
    "name": "ipython",
    "version": 3
   },
   "file_extension": ".py",
   "mimetype": "text/x-python",
   "name": "python",
   "nbconvert_exporter": "python",
   "pygments_lexer": "ipython3",
   "version": "3.10.8"
  }
 },
 "nbformat": 4,
 "nbformat_minor": 5
}
